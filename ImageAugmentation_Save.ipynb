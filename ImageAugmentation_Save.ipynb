{
 "cells": [
  {
   "cell_type": "markdown",
   "metadata": {},
   "source": [
    "# This code is to generate augmented images for CNN\n",
    "1) The image processing includes: rotation, horizontal/vertical shift, shear, horizontal flip, zoom, etc. <br>\n",
    "2) The number of augmented images for each input image can be specified by variable *augment_number* <br>\n",
    "3) All generated augmented images are saved in a folder specified by the user <br>"
   ]
  },
  {
   "cell_type": "code",
   "execution_count": 1,
   "metadata": {},
   "outputs": [],
   "source": [
    "import numpy as np\n",
    "import tensorflow as tf\n",
    "from tensorflow.keras.preprocessing.image import ImageDataGenerator\n",
    "from matplotlib import pyplot as plt"
   ]
  },
  {
   "cell_type": "code",
   "execution_count": 2,
   "metadata": {},
   "outputs": [],
   "source": [
    "import os\n",
    "path='my_images_folder/'  # specify your input image folder\n",
    "image_list = os.listdir(path)\n",
    "save_dir = 'augmentation/'  #augmented images will be saved in this folder"
   ]
  },
  {
   "cell_type": "code",
   "execution_count": 3,
   "metadata": {},
   "outputs": [],
   "source": [
    "# List image processes\n",
    "datagen = ImageDataGenerator(rotation_range=40, width_shift_range=0.3, height_shift_range=0.1,shear_range=0.15, \n",
    "zoom_range=0.3,shear_range=0.2, channel_shift_range = 10, horizontal_flip=True)"
   ]
  },
  {
   "cell_type": "code",
   "execution_count": 4,
   "metadata": {},
   "outputs": [],
   "source": [
    "# Loop through each original image, generating augmented images, and save the augmented images\n",
    "augment_number=5  #number of augmented versions for each image\n",
    "for f in image_list:\n",
    "    image_filename = path+f\n",
    "    image = np.expand_dims(plt.imread(image_filename), 0)\n",
    "    datagen.fit(image)\n",
    "    for x, val in zip(datagen.flow(image,       #input image\n",
    "            save_to_dir=save_dir,     #augmented images will be saved here\n",
    "             save_prefix='aug',        # the augmented image name will have prefix 'aug'\n",
    "            save_format='png'),range(augment_number)) :  \n",
    "        pass"
   ]
  },
  {
   "cell_type": "code",
   "execution_count": null,
   "metadata": {},
   "outputs": [],
   "source": []
  }
 ],
 "metadata": {
  "kernelspec": {
   "display_name": "Python 3",
   "language": "python",
   "name": "python3"
  },
  "language_info": {
   "codemirror_mode": {
    "name": "ipython",
    "version": 3
   },
   "file_extension": ".py",
   "mimetype": "text/x-python",
   "name": "python",
   "nbconvert_exporter": "python",
   "pygments_lexer": "ipython3",
   "version": "3.7.3"
  }
 },
 "nbformat": 4,
 "nbformat_minor": 2
}
